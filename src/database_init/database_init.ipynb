{
 "cells": [
  {
   "cell_type": "markdown",
   "metadata": {},
   "source": [
    "## Database Setup\n",
    "### Outline\n",
    "- Create a database and establish a connection\n",
    "- Create tables\n",
    "- Load datasets\n",
    "- Export datasets to MySQL tables\n",
    "\n",
    "### Additional Considerations\n",
    "- column names from governance_indicators.csv can be used directly\n",
    "- OECD column names can be used\n",
    "- economic freedom scores as well\n",
    "- SEZ is okay"
   ]
  },
  {
   "cell_type": "code",
   "execution_count": 1,
   "metadata": {},
   "outputs": [
    {
     "name": "stdout",
     "output_type": "stream",
     "text": [
      "Requirement already satisfied: mysql-connector-python in c:\\users\\harb\\appdata\\local\\packages\\pythonsoftwarefoundation.python.3.10_qbz5n2kfra8p0\\localcache\\local-packages\\python310\\site-packages (9.1.0)\n",
      "Note: you may need to restart the kernel to use updated packages.\n"
     ]
    },
    {
     "name": "stderr",
     "output_type": "stream",
     "text": [
      "\n",
      "[notice] A new release of pip is available: 24.1.2 -> 24.3.1\n",
      "[notice] To update, run: C:\\Users\\Harb\\AppData\\Local\\Microsoft\\WindowsApps\\PythonSoftwareFoundation.Python.3.10_qbz5n2kfra8p0\\python.exe -m pip install --upgrade pip\n"
     ]
    },
    {
     "name": "stdout",
     "output_type": "stream",
     "text": [
      "Requirement already satisfied: mysql in c:\\users\\harb\\appdata\\local\\packages\\pythonsoftwarefoundation.python.3.10_qbz5n2kfra8p0\\localcache\\local-packages\\python310\\site-packages (0.0.3)\n",
      "Requirement already satisfied: mysqlclient in c:\\users\\harb\\appdata\\local\\packages\\pythonsoftwarefoundation.python.3.10_qbz5n2kfra8p0\\localcache\\local-packages\\python310\\site-packages (from mysql) (2.2.6)\n",
      "Note: you may need to restart the kernel to use updated packages.\n"
     ]
    },
    {
     "name": "stderr",
     "output_type": "stream",
     "text": [
      "\n",
      "[notice] A new release of pip is available: 24.1.2 -> 24.3.1\n",
      "[notice] To update, run: C:\\Users\\Harb\\AppData\\Local\\Microsoft\\WindowsApps\\PythonSoftwareFoundation.Python.3.10_qbz5n2kfra8p0\\python.exe -m pip install --upgrade pip\n"
     ]
    }
   ],
   "source": [
    "%pip install mysql-connector-python\n",
    "%pip install mysql"
   ]
  },
  {
   "cell_type": "code",
   "execution_count": 4,
   "metadata": {},
   "outputs": [],
   "source": [
    "import pandas as pd\n",
    "import mysql.connector\n",
    "from mysql.connector import Error\n",
    "import os\n",
    "\n",
    "env = os.environ\n",
    "\n",
    "MYSQL_CONFIG = {\n",
    "    'host': env.get(\"MYSQL_HOST\"),\n",
    "    'user': env.get(\"MYSQL_USER\"), \n",
    "    'password': env.get(\"MYSQL_PW\"),\n",
    "    'database': env.get(\"MYSQL_DB\")\n",
    "}\n",
    "\n",
    "connection = mysql.connector.connect(\n",
    "            host=MYSQL_CONFIG['host'],\n",
    "            user=MYSQL_CONFIG['user'],\n",
    "            password=MYSQL_CONFIG['password']\n",
    "        )\n",
    "\n",
    "governance_indicators = pd.read_csv(\"C:\\\\Users\\\\Harb\\\\OneDrive\\\\Documents\\\\foreign-direct-investment-analysis\\\\data\\\\processed\\\\political_factors\\\\governance_indicators.csv\")\n",
    "economic_freedom_scores = pd.read_csv(\"C:\\\\Users\\\\Harb\\\\OneDrive\\\\Documents\\\\foreign-direct-investment-analysis\\\\data\\\\processed\\\\political_factors\\\\economic_freedom_country_scores.csv\")\n",
    "oecd_fdi_data = pd.read_csv(\"C:\\\\Users\\\\Harb\\\\OneDrive\\\\Documents\\\\foreign-direct-investment-analysis\\\\data\\\\processed\\\\political_factors\\\\OECD_fdi_flows_fdi_restrictiveness.csv\")\n",
    "global_sez = pd.read_csv(\"C:\\\\Users\\\\Harb\\\\OneDrive\\\\Documents\\\\foreign-direct-investment-analysis\\\\data\\\\processed\\\\political_factors\\\\global_special_economic_zones.csv\")\n",
    "\n",
    "\n",
    "\n",
    "def create_table_from_dataframe(cursor, table_name, dataframe):\n",
    "\n",
    "    columns = ', '.join([f\"`{col}` TEXT\" if dtype == 'object' else f\"`{col}` DOUBLE\" \n",
    "                         for col, dtype in dataframe.dtypes.items()])\n",
    "    create_table_sql = f\"CREATE TABLE IF NOT EXISTS `{table_name}` ({columns});\"\n",
    "    cursor.execute(create_table_sql)\n",
    "\n",
    "    placeholders = ', '.join(['%s'] * len(dataframe.columns))\n",
    "    insert_sql = f\"INSERT INTO `{table_name}` VALUES ({placeholders})\"\n",
    "\n",
    "    for row in dataframe.itertuples(index=False, name=None):\n",
    "        cursor.execute(insert_sql, row)\n",
    "\n",
    "    print(f\"Table '{table_name}' created\")\n",
    "\n",
    "\n",
    "def create_database():\n",
    "    try:\n",
    "        \n",
    "        cursor = connection.cursor()\n",
    "        \n",
    "        cursor.execute(f\"CREATE DATABASE IF NOT EXISTS {MYSQL_CONFIG['database']}\")\n",
    "        cursor.execute(f\"USE {MYSQL_CONFIG['database']}\")\n",
    "\n",
    "        datasets = {\n",
    "            \"governance_indicators\": governance_indicators,\n",
    "            \"economic_freedom_country_scores\": economic_freedom_scores,\n",
    "            \"oecd_fdi_flows_restrictiveness\": oecd_fdi_data,\n",
    "        }\n",
    "\n",
    "        for table_name, df in datasets.items():\n",
    "            create_table_from_dataframe(cursor, table_name, df)\n",
    "\n",
    "        connection.commit()\n",
    "\n",
    "        print(\"Tables done.\")\n",
    "\n",
    "\n",
    "    finally:\n",
    "        if connection.is_connected():\n",
    "            cursor.close()\n",
    "            connection.close()"
   ]
  },
  {
   "cell_type": "code",
   "execution_count": null,
   "metadata": {},
   "outputs": [],
   "source": [
    "create_database()"
   ]
  },
  {
   "cell_type": "code",
   "execution_count": null,
   "metadata": {},
   "outputs": [],
   "source": []
  }
 ],
 "metadata": {
  "kernelspec": {
   "display_name": "Python 3",
   "language": "python",
   "name": "python3"
  },
  "language_info": {
   "codemirror_mode": {
    "name": "ipython",
    "version": 3
   },
   "file_extension": ".py",
   "mimetype": "text/x-python",
   "name": "python",
   "nbconvert_exporter": "python",
   "pygments_lexer": "ipython3",
   "version": "3.10.11"
  }
 },
 "nbformat": 4,
 "nbformat_minor": 2
}
