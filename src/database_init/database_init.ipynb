{
 "cells": [
  {
   "cell_type": "markdown",
   "metadata": {},
   "source": [
    "## Database Setup\n",
    "### Outline\n",
    "- Create a database and establish a connection\n",
    "- Create tables\n",
    "- Load datasets\n",
    "- Export datasets to MySQL tables\n",
    "\n",
    "### Additional Considerations\n",
    "- column names from governance_indicators.csv can be used directly\n",
    "- OECD column names can be used\n",
    "- economic freedom scores as well\n",
    "- SEZ is okay"
   ]
  },
  {
   "cell_type": "code",
   "execution_count": 19,
   "metadata": {},
   "outputs": [
    {
     "name": "stdout",
     "output_type": "stream",
     "text": [
      "Requirement already satisfied: mysql-connector-python in c:\\users\\harb\\appdata\\local\\packages\\pythonsoftwarefoundation.python.3.10_qbz5n2kfra8p0\\localcache\\local-packages\\python310\\site-packages (9.1.0)\n",
      "Note: you may need to restart the kernel to use updated packages.\n"
     ]
    },
    {
     "name": "stderr",
     "output_type": "stream",
     "text": [
      "\n",
      "[notice] A new release of pip is available: 24.1.2 -> 24.3.1\n",
      "[notice] To update, run: C:\\Users\\Harb\\AppData\\Local\\Microsoft\\WindowsApps\\PythonSoftwareFoundation.Python.3.10_qbz5n2kfra8p0\\python.exe -m pip install --upgrade pip\n"
     ]
    },
    {
     "name": "stdout",
     "output_type": "stream",
     "text": [
      "Requirement already satisfied: mysql in c:\\users\\harb\\appdata\\local\\packages\\pythonsoftwarefoundation.python.3.10_qbz5n2kfra8p0\\localcache\\local-packages\\python310\\site-packages (0.0.3)\n",
      "Requirement already satisfied: mysqlclient in c:\\users\\harb\\appdata\\local\\packages\\pythonsoftwarefoundation.python.3.10_qbz5n2kfra8p0\\localcache\\local-packages\\python310\\site-packages (from mysql) (2.2.6)\n",
      "Note: you may need to restart the kernel to use updated packages.\n"
     ]
    },
    {
     "name": "stderr",
     "output_type": "stream",
     "text": [
      "\n",
      "[notice] A new release of pip is available: 24.1.2 -> 24.3.1\n",
      "[notice] To update, run: C:\\Users\\Harb\\AppData\\Local\\Microsoft\\WindowsApps\\PythonSoftwareFoundation.Python.3.10_qbz5n2kfra8p0\\python.exe -m pip install --upgrade pip\n"
     ]
    },
    {
     "name": "stdout",
     "output_type": "stream",
     "text": [
      "Collecting sqlalchemy\n",
      "  Downloading SQLAlchemy-2.0.36-cp310-cp310-win_amd64.whl.metadata (9.9 kB)\n",
      "Collecting typing-extensions>=4.6.0 (from sqlalchemy)\n",
      "  Using cached typing_extensions-4.12.2-py3-none-any.whl.metadata (3.0 kB)\n",
      "Collecting greenlet!=0.4.17 (from sqlalchemy)\n",
      "  Downloading greenlet-3.1.1-cp310-cp310-win_amd64.whl.metadata (3.9 kB)\n",
      "Downloading SQLAlchemy-2.0.36-cp310-cp310-win_amd64.whl (2.1 MB)\n",
      "   ---------------------------------------- 0.0/2.1 MB ? eta -:--:--\n",
      "    --------------------------------------- 0.0/2.1 MB 1.4 MB/s eta 0:00:02\n",
      "   -- ------------------------------------- 0.1/2.1 MB 1.3 MB/s eta 0:00:02\n",
      "   ------ --------------------------------- 0.3/2.1 MB 2.6 MB/s eta 0:00:01\n",
      "   ------------ --------------------------- 0.7/2.1 MB 3.8 MB/s eta 0:00:01\n",
      "   ---------------- ----------------------- 0.9/2.1 MB 4.3 MB/s eta 0:00:01\n",
      "   ------------------------ --------------- 1.3/2.1 MB 5.5 MB/s eta 0:00:01\n",
      "   ------------------------------- -------- 1.7/2.1 MB 5.9 MB/s eta 0:00:01\n",
      "   ---------------------------------------  2.1/2.1 MB 6.6 MB/s eta 0:00:01\n",
      "   ---------------------------------------- 2.1/2.1 MB 6.1 MB/s eta 0:00:00\n",
      "Downloading greenlet-3.1.1-cp310-cp310-win_amd64.whl (298 kB)\n",
      "   ---------------------------------------- 0.0/298.4 kB ? eta -:--:--\n",
      "   ---------------------------------------  297.0/298.4 kB 9.2 MB/s eta 0:00:01\n",
      "   ---------------------------------------- 298.4/298.4 kB 9.3 MB/s eta 0:00:00\n",
      "Using cached typing_extensions-4.12.2-py3-none-any.whl (37 kB)\n",
      "Installing collected packages: typing-extensions, greenlet, sqlalchemy\n",
      "Successfully installed greenlet-3.1.1 sqlalchemy-2.0.36 typing-extensions-4.12.2\n",
      "Note: you may need to restart the kernel to use updated packages.\n"
     ]
    },
    {
     "name": "stderr",
     "output_type": "stream",
     "text": [
      "\n",
      "[notice] A new release of pip is available: 24.1.2 -> 24.3.1\n",
      "[notice] To update, run: C:\\Users\\Harb\\AppData\\Local\\Microsoft\\WindowsApps\\PythonSoftwareFoundation.Python.3.10_qbz5n2kfra8p0\\python.exe -m pip install --upgrade pip\n"
     ]
    }
   ],
   "source": [
    "%pip install mysql-connector-python\n",
    "%pip install mysql\n",
    "%pip install sqlalchemy"
   ]
  },
  {
   "cell_type": "code",
   "execution_count": 20,
   "metadata": {},
   "outputs": [],
   "source": [
    "from sqlalchemy import create_engine"
   ]
  },
  {
   "cell_type": "code",
   "execution_count": 25,
   "metadata": {},
   "outputs": [],
   "source": [
    "import pandas as pd\n",
    "import mysql.connector\n",
    "from mysql.connector import Error\n",
    "import os\n",
    "\n",
    "env = os.environ\n",
    "\n",
    "MYSQL_CONFIG = {\n",
    "    'host': env.get(\"MYSQL_HOST\"),\n",
    "    'user': env.get(\"MYSQL_USER\"), \n",
    "    'password': env.get(\"MYSQL_PW\"),\n",
    "    'database': env.get(\"MYSQL_DB\")\n",
    "}\n",
    "\n",
    "connection = mysql.connector.connect(\n",
    "            host=MYSQL_CONFIG['host'],\n",
    "            user=MYSQL_CONFIG['user'],\n",
    "            password=MYSQL_CONFIG['password']\n",
    "        )\n",
    "\n",
    "governance_indicators = pd.read_csv(\"C:\\\\Users\\\\Harb\\\\OneDrive\\\\Documents\\\\foreign-direct-investment-analysis\\\\data\\\\processed\\\\political_factors\\\\governance_indicators.csv\")\n",
    "economic_freedom_scores = pd.read_csv(\"C:\\\\Users\\\\Harb\\\\OneDrive\\\\Documents\\\\foreign-direct-investment-analysis\\\\data\\\\processed\\\\political_factors\\\\economic_freedom_country_scores.csv\")\n",
    "oecd_fdi_data = pd.read_csv(\"C:\\\\Users\\\\Harb\\\\OneDrive\\\\Documents\\\\foreign-direct-investment-analysis\\\\data\\\\processed\\\\political_factors\\\\OECD_fdi_flows_fdi_restrictiveness.csv\")\n",
    "global_sez = pd.read_csv(\"C:\\\\Users\\\\Harb\\\\OneDrive\\\\Documents\\\\foreign-direct-investment-analysis\\\\data\\\\processed\\\\political_factors\\\\global_special_economic_zones.csv\")\n",
    "fdi_data = pd.read_csv('C:\\\\Users\\\\Harb\\\\OneDrive\\\\Documents\\\\foreign-direct-investment-analysis\\\\data\\\\processed\\\\fdi_data\\\\fdi_data.csv')\n",
    "\n",
    "\n",
    "def create_table_from_dataframe(cursor, table_name, dataframe):\n",
    "    columns = ', '.join([\n",
    "        f\"`{col}` VARCHAR(255)\" if dtype == 'object' \n",
    "        else f\"`{col}` DOUBLE\" if pd.api.types.is_numeric_dtype(dataframe[col])\n",
    "        else f\"`{col}` TEXT\" \n",
    "        for col, dtype in dataframe.dtypes.items()\n",
    "    ])\n",
    "    \n",
    "    drop_table_sql = f\"DROP TABLE IF EXISTS `{table_name}`;\"\n",
    "    cursor.execute(drop_table_sql)\n",
    "    create_table_sql = f\"CREATE TABLE IF NOT EXISTS `{table_name}` ({columns});\"\n",
    "    cursor.execute(create_table_sql)\n",
    "\n",
    "    placeholders = ', '.join(['%s'] * len(dataframe.columns))\n",
    "    column_names = ', '.join([f\"`{col}`\" for col in dataframe.columns])\n",
    "    insert_sql = f\"INSERT INTO `{table_name}` ({column_names}) VALUES ({placeholders})\"\n",
    "\n",
    "    data_to_insert = dataframe.to_records(index=False).tolist()\n",
    "    cursor.executemany(insert_sql, data_to_insert)\n",
    "\n",
    "    print(f\"Table '{table_name}' created and data inserted\")\n",
    "\n",
    "\n",
    "def create_database():\n",
    "    try:\n",
    "        \n",
    "        cursor = connection.cursor()\n",
    "        \n",
    "        cursor.execute(f\"CREATE DATABASE IF NOT EXISTS {MYSQL_CONFIG['database']}\")\n",
    "        cursor.execute(f\"USE {MYSQL_CONFIG['database']}\")\n",
    "\n",
    "        datasets = {\n",
    "            \"governance_indicators\": governance_indicators,\n",
    "            \"economic_freedom_country_scores\": economic_freedom_scores,\n",
    "            \"global_special_economic_zones\": global_sez, \n",
    "            \"fdi_data\": fdi_data,\n",
    "            \"oecd_fdi_flows_restrictiveness\": oecd_fdi_data        }\n",
    "\n",
    "        for table_name, df in datasets.items():\n",
    "            create_table_from_dataframe(cursor, table_name, df)\n",
    "\n",
    "        connection.commit()\n",
    "\n",
    "        print(\"Tables done.\")\n",
    "\n",
    "\n",
    "    finally:\n",
    "        if connection.is_connected():\n",
    "            cursor.close()\n",
    "            connection.close()"
   ]
  },
  {
   "cell_type": "code",
   "execution_count": 26,
   "metadata": {},
   "outputs": [
    {
     "name": "stdout",
     "output_type": "stream",
     "text": [
      "Table 'governance_indicators' created and data inserted\n",
      "Table 'economic_freedom_country_scores' created and data inserted\n",
      "Table 'global_special_economic_zones' created and data inserted\n",
      "Table 'fdi_data' created and data inserted\n",
      "Table 'oecd_fdi_flows_restrictiveness' created and data inserted\n",
      "Tables done.\n"
     ]
    }
   ],
   "source": [
    "create_database()"
   ]
  },
  {
   "cell_type": "code",
   "execution_count": null,
   "metadata": {},
   "outputs": [],
   "source": []
  }
 ],
 "metadata": {
  "kernelspec": {
   "display_name": "Python 3",
   "language": "python",
   "name": "python3"
  },
  "language_info": {
   "codemirror_mode": {
    "name": "ipython",
    "version": 3
   },
   "file_extension": ".py",
   "mimetype": "text/x-python",
   "name": "python",
   "nbconvert_exporter": "python",
   "pygments_lexer": "ipython3",
   "version": "3.10.11"
  }
 },
 "nbformat": 4,
 "nbformat_minor": 2
}
