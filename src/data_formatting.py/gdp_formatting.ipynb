{
 "cells": [
  {
   "cell_type": "code",
   "execution_count": 1,
   "metadata": {},
   "outputs": [],
   "source": [
    "import pandas as pd\n",
    "import openpyxl"
   ]
  },
  {
   "cell_type": "markdown",
   "metadata": {},
   "source": [
    "## Conversion of Chinese Nominal GDP to Real GDP"
   ]
  },
  {
   "cell_type": "code",
   "execution_count": 2,
   "metadata": {},
   "outputs": [
    {
     "data": {
      "text/html": [
       "<div>\n",
       "<style scoped>\n",
       "    .dataframe tbody tr th:only-of-type {\n",
       "        vertical-align: middle;\n",
       "    }\n",
       "\n",
       "    .dataframe tbody tr th {\n",
       "        vertical-align: top;\n",
       "    }\n",
       "\n",
       "    .dataframe thead th {\n",
       "        text-align: right;\n",
       "    }\n",
       "</style>\n",
       "<table border=\"1\" class=\"dataframe\">\n",
       "  <thead>\n",
       "    <tr style=\"text-align: right;\">\n",
       "      <th></th>\n",
       "      <th>DATE</th>\n",
       "      <th>China Nominal GDP</th>\n",
       "    </tr>\n",
       "  </thead>\n",
       "  <tbody>\n",
       "    <tr>\n",
       "      <th>0</th>\n",
       "      <td>1980-01-01</td>\n",
       "      <td>1.911492e+11</td>\n",
       "    </tr>\n",
       "    <tr>\n",
       "      <th>1</th>\n",
       "      <td>1981-01-01</td>\n",
       "      <td>1.958664e+11</td>\n",
       "    </tr>\n",
       "    <tr>\n",
       "      <th>2</th>\n",
       "      <td>1982-01-01</td>\n",
       "      <td>2.050897e+11</td>\n",
       "    </tr>\n",
       "    <tr>\n",
       "      <th>3</th>\n",
       "      <td>1983-01-01</td>\n",
       "      <td>2.306867e+11</td>\n",
       "    </tr>\n",
       "    <tr>\n",
       "      <th>4</th>\n",
       "      <td>1984-01-01</td>\n",
       "      <td>2.599465e+11</td>\n",
       "    </tr>\n",
       "  </tbody>\n",
       "</table>\n",
       "</div>"
      ],
      "text/plain": [
       "         DATE  China Nominal GDP\n",
       "0  1980-01-01       1.911492e+11\n",
       "1  1981-01-01       1.958664e+11\n",
       "2  1982-01-01       2.050897e+11\n",
       "3  1983-01-01       2.306867e+11\n",
       "4  1984-01-01       2.599465e+11"
      ]
     },
     "execution_count": 2,
     "metadata": {},
     "output_type": "execute_result"
    }
   ],
   "source": [
    "path = \"C:\\\\Users\\\\Harb\\\\OneDrive\\\\Documents\\\\foreign-direct-investment-analysis\\\\data\\\\raw\\\\nominal_gdp\\\\nominal_gdp_china.csv\"\n",
    "\n",
    "df = pd.read_csv(path)\n",
    "\n",
    "df.head()"
   ]
  },
  {
   "cell_type": "code",
   "execution_count": null,
   "metadata": {},
   "outputs": [],
   "source": [
    "new_path = \"C:\\\\Users\\\\Harb\\\\OneDrive\\\\Documents\\\\foreign-direct-investment-analysis\\\\data\\\\raw\\\\real_gdp\\\\real_gdp_china.xlsx\"\n",
    "real_china = pd.read_excel(new_path, sheet_name=\"Data\")\n",
    "real_china.drop(labels=[\"Unnamed: 0\"], axis=1, inplace=True)\n",
    "headers=[\"Year\", \"Real GDP\"]\n",
    "real_china.columns = headers\n",
    "real_china.drop(labels=[0, 1, 2, 3], axis=0, inplace=True)\n",
    "real_china.reset_index(drop=True, inplace=True)\n",
    "\n",
    "real_china.head()\n",
    "\n",
    "export_path = \"C:\\\\Users\\\\Harb\\\\OneDrive\\\\Documents\\\\foreign-direct-investment-analysis\\\\data\\\\processed\\\\real_gdp\\\\real_gdp_china1.csv\"\n",
    "real_china.to_csv(export_path, index=True)"
   ]
  },
  {
   "cell_type": "markdown",
   "metadata": {},
   "source": [
    "## Conversion of Indian Nominal GDP to Real GDP"
   ]
  },
  {
   "cell_type": "code",
   "execution_count": 6,
   "metadata": {},
   "outputs": [
    {
     "data": {
      "text/html": [
       "<div>\n",
       "<style scoped>\n",
       "    .dataframe tbody tr th:only-of-type {\n",
       "        vertical-align: middle;\n",
       "    }\n",
       "\n",
       "    .dataframe tbody tr th {\n",
       "        vertical-align: top;\n",
       "    }\n",
       "\n",
       "    .dataframe thead th {\n",
       "        text-align: right;\n",
       "    }\n",
       "</style>\n",
       "<table border=\"1\" class=\"dataframe\">\n",
       "  <thead>\n",
       "    <tr style=\"text-align: right;\">\n",
       "      <th></th>\n",
       "      <th>DATE</th>\n",
       "      <th>India Nominal GDP</th>\n",
       "    </tr>\n",
       "  </thead>\n",
       "  <tbody>\n",
       "    <tr>\n",
       "      <th>0</th>\n",
       "      <td>1980-01-01</td>\n",
       "      <td>1.863286e+11</td>\n",
       "    </tr>\n",
       "    <tr>\n",
       "      <th>1</th>\n",
       "      <td>1981-01-01</td>\n",
       "      <td>1.934914e+11</td>\n",
       "    </tr>\n",
       "    <tr>\n",
       "      <th>2</th>\n",
       "      <td>1982-01-01</td>\n",
       "      <td>2.007156e+11</td>\n",
       "    </tr>\n",
       "    <tr>\n",
       "      <th>3</th>\n",
       "      <td>1983-01-01</td>\n",
       "      <td>2.182621e+11</td>\n",
       "    </tr>\n",
       "    <tr>\n",
       "      <th>4</th>\n",
       "      <td>1984-01-01</td>\n",
       "      <td>2.121576e+11</td>\n",
       "    </tr>\n",
       "  </tbody>\n",
       "</table>\n",
       "</div>"
      ],
      "text/plain": [
       "         DATE  India Nominal GDP\n",
       "0  1980-01-01       1.863286e+11\n",
       "1  1981-01-01       1.934914e+11\n",
       "2  1982-01-01       2.007156e+11\n",
       "3  1983-01-01       2.182621e+11\n",
       "4  1984-01-01       2.121576e+11"
      ]
     },
     "execution_count": 6,
     "metadata": {},
     "output_type": "execute_result"
    }
   ],
   "source": [
    "path = \"C:\\\\Users\\\\Harb\\\\OneDrive\\\\Documents\\\\foreign-direct-investment-analysis\\\\data\\\\raw\\\\nominal_gdp\\\\nominal_gdp_india.csv\"\n",
    "\n",
    "df = pd.read_csv(path)\n",
    "\n",
    "df.head()"
   ]
  },
  {
   "cell_type": "code",
   "execution_count": null,
   "metadata": {},
   "outputs": [],
   "source": [
    "new_path = \"C:\\\\Users\\\\Harb\\\\OneDrive\\\\Documents\\\\foreign-direct-investment-analysis\\\\data\\\\raw\\\\real_gdp\\\\real_gdp_india.xlsx\"\n",
    "real_india = pd.read_excel(new_path, sheet_name=\"Data\")\n",
    "real_india.drop(labels=[\"Unnamed: 0\"], axis=1, inplace=True)\n",
    "headers=[\"Year\", \"Real GDP\"]\n",
    "real_india.columns = headers\n",
    "real_india.drop(labels=[0, 1, 2, 3], axis=0, inplace=True)\n",
    "real_india.reset_index(drop=True, inplace=True)\n",
    "\n",
    "real_india.head()\n",
    "\n",
    "export_path = \"C:\\\\Users\\\\Harb\\\\OneDrive\\\\Documents\\\\foreign-direct-investment-analysis\\\\data\\\\processed\\\\real_gdp\\\\real_gdp_india1.csv\"\n",
    "real_india.to_csv(export_path, index=True)"
   ]
  }
 ],
 "metadata": {
  "kernelspec": {
   "display_name": "venv",
   "language": "python",
   "name": "python3"
  },
  "language_info": {
   "codemirror_mode": {
    "name": "ipython",
    "version": 3
   },
   "file_extension": ".py",
   "mimetype": "text/x-python",
   "name": "python",
   "nbconvert_exporter": "python",
   "pygments_lexer": "ipython3",
   "version": "3.10.11"
  }
 },
 "nbformat": 4,
 "nbformat_minor": 2
}
