{
 "cells": [
  {
   "cell_type": "code",
   "execution_count": 9,
   "metadata": {},
   "outputs": [],
   "source": [
    "import pandas as pd"
   ]
  },
  {
   "cell_type": "markdown",
   "metadata": {},
   "source": [
    "## FDI Formatting - China and India"
   ]
  },
  {
   "cell_type": "code",
   "execution_count": 10,
   "metadata": {},
   "outputs": [
    {
     "data": {
      "text/plain": [
       "(   Unnamed: 0  Year  Real GDP\n",
       " 0           0  1985    310.13\n",
       " 1           1  1986    300.92\n",
       " 2           2  1987    327.73\n",
       " 3           3  1988    408.66\n",
       " 4           4  1989    458.18,\n",
       "    Unnamed: 0  Year  Real GDP\n",
       " 0           0  1987    283.75\n",
       " 1           1  1988    299.65\n",
       " 2           2  1989    301.23\n",
       " 3           3  1990    326.61\n",
       " 4           4  1991    274.84,\n",
       "                                          Series Name           Series Code  \\\n",
       " 0  Foreign direct investment, net inflows (% of GDP)  BX.KLT.DINV.WD.GD.ZS   \n",
       " 1  Foreign direct investment, net inflows (% of GDP)  BX.KLT.DINV.WD.GD.ZS   \n",
       " 2  Foreign direct investment, net inflows (% of GDP)  BX.KLT.DINV.WD.GD.ZS   \n",
       " 3  Foreign direct investment, net inflows (% of GDP)  BX.KLT.DINV.WD.GD.ZS   \n",
       " 4                                                NaN                   NaN   \n",
       " \n",
       "     Country Name Country Code  1985 [YR1985]  1986 [YR1986]  1987 [YR1987]  \\\n",
       " 0          China          CHN       0.536047       0.623425       0.847703   \n",
       " 1          India          IND       0.045628       0.047284       0.076091   \n",
       " 2          World          WLD       0.353032       0.569315       0.848935   \n",
       " 3  United States          USA       0.221942       0.675731       1.302414   \n",
       " 4            NaN          NaN            NaN            NaN            NaN   \n",
       " \n",
       "    1988 [YR1988]  1989 [YR1989]  1990 [YR1990]  ...  2014 [YR2014]  \\\n",
       " 0       1.022559       0.975650       0.966308  ...       2.559248   \n",
       " 1       0.030766       0.085157       0.073740  ...       1.695660   \n",
       " 2       0.895475       1.029579       1.093274  ...       2.409803   \n",
       " 3       1.086807       1.343241       1.194504  ...       1.430339   \n",
       " 4            NaN            NaN            NaN  ...            NaN   \n",
       " \n",
       "    2015 [YR2015]  2016 [YR2016]  2017 [YR2017]  2018 [YR2018]  2019 [YR2019]  \\\n",
       " 0       2.192178       1.555637       1.349124       1.693894       1.310716   \n",
       " 1       2.092115       1.937364       1.507316       1.558215       1.784826   \n",
       " 2       3.654326       3.590319       2.639305       1.050997       1.953435   \n",
       " 3       2.795482       2.522681       1.941776       1.039454       1.468232   \n",
       " 4            NaN            NaN            NaN            NaN            NaN   \n",
       " \n",
       "    2020 [YR2020]  2021 [YR2021]  2022 [YR2022]  2023 [YR2023]  \n",
       " 0       1.723176       1.930786       1.063673       0.240114  \n",
       " 1       2.406203       1.412171       1.489211       0.790728  \n",
       " 2       1.380484       2.324106       1.749120       0.746630  \n",
       " 3       0.642810       2.016633       1.588643       1.274752  \n",
       " 4            NaN            NaN            NaN            NaN  \n",
       " \n",
       " [5 rows x 43 columns])"
      ]
     },
     "execution_count": 10,
     "metadata": {},
     "output_type": "execute_result"
    }
   ],
   "source": [
    "china_gdp_path = 'C:\\\\Users\\\\Harb\\\\OneDrive\\\\Documents\\\\foreign-direct-investment-analysis\\\\data\\\\processed\\\\real_gdp\\\\real_gdp_china1.csv'\n",
    "india_gdp_path = 'C:\\\\Users\\\\Harb\\\\OneDrive\\\\Documents\\\\foreign-direct-investment-analysis\\\\data\\\\processed\\\\real_gdp\\\\real_gdp_india1.csv'\n",
    "fdi_percentage_path = 'C:\\\\Users\\\\Harb\\\\OneDrive\\\\Documents\\\\foreign-direct-investment-analysis\\\\data\\\\raw\\\\fdi_percentage_of_gdp_world_bank\\\\fdi_percentage_of_gdp_data.csv'\n",
    "\n",
    "china_gdp = pd.read_csv(china_gdp_path)\n",
    "india_gdp = pd.read_csv(india_gdp_path)\n",
    "fdi_percentage = pd.read_csv(fdi_percentage_path)\n",
    "\n",
    "china_gdp.head(), india_gdp.head(), fdi_percentage.head()\n"
   ]
  },
  {
   "cell_type": "code",
   "execution_count": null,
   "metadata": {},
   "outputs": [
    {
     "name": "stdout",
     "output_type": "stream",
     "text": [
      "Processed data has been saved to C:\\Users\\Harb\\OneDrive\\Documents\\foreign-direct-investment-analysis\\data\\processed\\fdi_data\\fdi_data.csv\n"
     ]
    }
   ],
   "source": [
    "fdi_filtered = fdi_percentage[fdi_percentage['Country Code'].isin(['CHN', 'IND'])]\n",
    "fdi_filtered = fdi_filtered.drop(columns=['Series Name', 'Series Code', 'Country Name'])\n",
    "\n",
    "fdi_tidy = fdi_filtered.melt(id_vars=['Country Code'], var_name='Year', value_name='FDI Percentage')\n",
    "\n",
    "fdi_tidy['Year'] = fdi_tidy['Year'].str.extract(r'(\\d{4})').astype(int)\n",
    "\n",
    "china_gdp.rename(columns={'Real GDP': 'GDP (Billion USD)'}, inplace=True)\n",
    "india_gdp.rename(columns={'Real GDP': 'GDP (Billion USD)'}, inplace=True)\n",
    "\n",
    "china_gdp['Country Code'] = 'CHN'\n",
    "india_gdp['Country Code'] = 'IND'\n",
    "\n"
   ]
  },
  {
   "cell_type": "code",
   "execution_count": null,
   "metadata": {},
   "outputs": [],
   "source": [
    "gdp_combined = pd.concat([china_gdp[['Year', 'Country Code', 'GDP (Billion USD)']],\n",
    "                          india_gdp[['Year', 'Country Code', 'GDP (Billion USD)']]])\n",
    "\n",
    "gdp_combined['Year'] = pd.to_numeric(gdp_combined['Year'], errors='coerce')\n",
    "\n",
    "gdp_combined = gdp_combined.dropna()\n"
   ]
  },
  {
   "cell_type": "code",
   "execution_count": null,
   "metadata": {},
   "outputs": [],
   "source": [
    "merged_data = pd.merge(gdp_combined, fdi_tidy, on=['Year', 'Country Code'], how='inner')\n",
    "\n",
    "merged_data['Absolute FDI (Billion USD)'] = (merged_data['GDP (Billion USD)'] *\n",
    "                                             merged_data['FDI Percentage'] / 100)\n",
    "\n",
    "output_path = 'C:\\\\Users\\\\Harb\\\\OneDrive\\\\Documents\\\\foreign-direct-investment-analysis\\\\data\\\\processed\\\\fdi_data\\\\fdi_data.csv'\n",
    "merged_data.to_csv(output_path, index=False)\n",
    "\n",
    "print(f\"Processed data has been saved to {output_path}\")\n",
    "merged_data"
   ]
  }
 ],
 "metadata": {
  "kernelspec": {
   "display_name": "Python 3",
   "language": "python",
   "name": "python3"
  },
  "language_info": {
   "codemirror_mode": {
    "name": "ipython",
    "version": 3
   },
   "file_extension": ".py",
   "mimetype": "text/x-python",
   "name": "python",
   "nbconvert_exporter": "python",
   "pygments_lexer": "ipython3",
   "version": "3.10.11"
  }
 },
 "nbformat": 4,
 "nbformat_minor": 2
}
