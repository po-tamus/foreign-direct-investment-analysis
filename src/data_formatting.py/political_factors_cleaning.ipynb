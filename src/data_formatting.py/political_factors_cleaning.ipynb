{
 "cells": [
  {
   "cell_type": "code",
   "execution_count": 2,
   "metadata": {},
   "outputs": [],
   "source": [
    "import pandas as pd\n",
    "import json"
   ]
  },
  {
   "cell_type": "markdown",
   "metadata": {},
   "source": [
    "## Heritage Foundation Economic Freedom Index"
   ]
  },
  {
   "cell_type": "code",
   "execution_count": 3,
   "metadata": {},
   "outputs": [],
   "source": [
    "ef_path = \"C:\\\\Users\\\\Harb\\\\OneDrive\\\\Documents\\\\foreign-direct-investment-analysis\\\\data\\\\raw\\\\political_factors\\\\economic_freedom_country_scores.csv\"\n",
    "ef_data = pd.read_csv(ef_path)\n",
    "\n",
    "ef_data = ef_data[ef_data[\"name_web\"].isin([\"china\", \"india\"])]\n",
    "ef_data.tail()\n",
    "ef_data = ef_data[[\"name_web\", \"Year\", \"Overall\", \"Property Rights\", \"Government Integrity\", \"Judicial Effectiveness\", \"Tax Burden\", \"Government Spending\", \"Fiscal Health\", \"Business Freedom\", \"Trade Freedom\", \"Monetary Freedom\", \"Investment Freedom\", \"Financial Freedom\", \"Labor Freedom\"]]  \n",
    "ef_data.to_csv(\"C:\\\\Users\\\\Harb\\\\OneDrive\\\\Documents\\\\foreign-direct-investment-analysis\\\\data\\\\processed\\\\political_factors\\\\economic_freedom_country_scores.csv\")"
   ]
  },
  {
   "cell_type": "markdown",
   "metadata": {},
   "source": [
    "## OECD FDI Flows and FDI Restrictiveness"
   ]
  },
  {
   "cell_type": "code",
   "execution_count": 7,
   "metadata": {},
   "outputs": [],
   "source": [
    "fdi_restrict_path = \"C:\\\\Users\\\\Harb\\\\OneDrive\\\\Documents\\\\foreign-direct-investment-analysis\\\\data\\\\raw\\\\political_factors\\\\OECD_fdi_flows_fdi_restrictiveness.csv\"\n",
    "fdi_restrict_data = pd.read_csv(fdi_restrict_path)\n",
    "\n",
    "fdi_restrict_cut = fdi_restrict_data[[\"LOCATION\", \"Country\", \"Indicator\", \"SUBJECT\", \"OBS_VALUE\", \"TIME_PERIOD\"]]\n",
    "fdi_restrict_cut = fdi_restrict_cut[fdi_restrict_cut[\"LOCATION\"].isin([\"CHN\", \"IND\"])]\n",
    "fdi_restrict_cut = fdi_restrict_cut.rename(columns={\"TIME_PERIOD\": \"Year\"})\n",
    "\n",
    "fdi_restrict_cut.reset_index(inplace=True)\n",
    "fdi_restrict_cut.set_index(\"index\", inplace=True)\n",
    "\n",
    "fdi_restrict_cut.to_csv(\"C:\\\\Users\\\\Harb\\\\OneDrive\\\\Documents\\\\foreign-direct-investment-analysis\\\\data\\\\processed\\\\political_factors\\\\OECD_fdi_flows_fdi_restrictiveness.csv\")\n"
   ]
  },
  {
   "cell_type": "markdown",
   "metadata": {},
   "source": [
    "## Governance Indicators"
   ]
  },
  {
   "cell_type": "code",
   "execution_count": null,
   "metadata": {},
   "outputs": [],
   "source": [
    "governance_indicators_path = \"C:\\\\Users\\\\Harb\\\\OneDrive\\\\Documents\\\\foreign-direct-investment-analysis\\\\data\\\\raw\\\\political_factors\\\\governance_indicators.csv\"\n",
    "governance_indicators = pd.read_csv(governance_indicators_path)\n",
    "\n",
    "# governance_indicators = governance_indicators[governance_indicators[\"Country\"].isin([\"China\", \"India\"])]\n",
    "governance_indicators.drop(labels=[\"Country Code\", \"Series Code\"], axis=1, inplace=True)\n",
    "governance_indicators.dropna(inplace=True)\n",
    "gi_result = governance_indicators[governance_indicators[\"Country Name\"].isin([\"China\", \"India\"])]\n"
   ]
  },
  {
   "cell_type": "code",
   "execution_count": null,
   "metadata": {},
   "outputs": [],
   "source": [
    "data_long = gi_result.melt(id_vars=[\"Series Name\", \"Country Name\"], \n",
    "                      var_name=\"Year\", \n",
    "                      value_name=\"Value\")\n",
    "\n",
    "data_long[\"Year\"] = data_long[\"Year\"].str.extract(r\"(\\d{4})\").astype(int)\n",
    "\n",
    "data_pivoted = data_long.set_index(\"Year\")\n",
    "\n",
    "# data_pivoted.head()\n",
    "\n",
    "data_pivoted.to_csv(\"C:\\\\Users\\\\Harb\\\\OneDrive\\\\Documents\\\\foreign-direct-investment-analysis\\\\data\\\\processed\\\\political_factors\\\\governance_indicators.csv\")"
   ]
  },
  {
   "cell_type": "markdown",
   "metadata": {},
   "source": [
    "## Global Special Economic Zones\n",
    "### Financial Incentives\n",
    "- Tax exemptions\n",
    "\n",
    "- CHINA CODE: CHN\n",
    "- INDIA CODE: IND"
   ]
  },
  {
   "cell_type": "code",
   "execution_count": 40,
   "metadata": {},
   "outputs": [],
   "source": [
    "path = \"C:\\\\Users\\\\Harb\\\\OneDrive\\\\Documents\\\\foreign-direct-investment-analysis\\\\data\\\\raw\\\\political_factors\\\\global_special_economic_zones.geojson\"\n",
    "\n",
    "with open(path) as f:\n",
    "    data = json.load(f)\n",
    "\n",
    "# sez_data = pd.read_json(path)\n",
    "\n",
    "# sez_data = pd.DataFrame(data[\"features\"])\n",
    "# sez_data.head()\n",
    "\n",
    "sez_result = []\n",
    "\n",
    "for feature in data[\"features\"]:\n",
    "    # print(feature[\"properties\"])\n",
    "    if feature[\"properties\"][\"Check\"] in [\"IND\", \"CHN\"]:\n",
    "        sez_result.append(feature[\"properties\"])\n",
    "\n",
    "sez_result = pd.DataFrame(sez_result)\n",
    "sez_result.columns\n",
    "sez_result = sez_result[['country_type_combo', 'country',\n",
    "       'operational_date', 'management_type', 'management_company',\n",
    "       'legal_framework', 'legalframework_type', 'legalframework_year',\n",
    "       'regulatory_authority', 'authority_independence',\n",
    "       'private_participation', 'private_participation2',\n",
    "       'developer_incentive', 'decade_ofoperation', 'size_range',\n",
    "       'standard_corptax', 'corptax_type', 'corptax_exemp', 'corptax_duration',\n",
    "       'corptax_grace', 'total_duration', 'duration_type',\n",
    "       'export_min', 'req_other', 'importduty_type', 'importduty_input', 'importduty_capex', 'vat_sales']]\n",
    "try: \n",
    "    sez_result.to_csv(\"C:\\\\Users\\\\Harb\\\\OneDrive\\\\Documents\\\\foreign-direct-investment-analysis\\\\data\\\\processed\\\\political_factors\\\\global_special_economic_zones.csv\")\n",
    "except:\n",
    "    print(\"error\")"
   ]
  }
 ],
 "metadata": {
  "kernelspec": {
   "display_name": "Python 3",
   "language": "python",
   "name": "python3"
  },
  "language_info": {
   "codemirror_mode": {
    "name": "ipython",
    "version": 3
   },
   "file_extension": ".py",
   "mimetype": "text/x-python",
   "name": "python",
   "nbconvert_exporter": "python",
   "pygments_lexer": "ipython3",
   "version": "3.10.11"
  }
 },
 "nbformat": 4,
 "nbformat_minor": 2
}
